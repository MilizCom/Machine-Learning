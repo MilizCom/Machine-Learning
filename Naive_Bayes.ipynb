{
  "nbformat": 4,
  "nbformat_minor": 0,
  "metadata": {
    "colab": {
      "provenance": [],
      "authorship_tag": "ABX9TyMgxu1d9L+0+trK293XgZ3K",
      "include_colab_link": true
    },
    "kernelspec": {
      "name": "python3",
      "display_name": "Python 3"
    },
    "language_info": {
      "name": "python"
    }
  },
  "cells": [
    {
      "cell_type": "markdown",
      "metadata": {
        "id": "view-in-github",
        "colab_type": "text"
      },
      "source": [
        "<a href=\"https://colab.research.google.com/github/MilizCom/Machine-Learning/blob/main/Naive_Bayes.ipynb\" target=\"_parent\"><img src=\"https://colab.research.google.com/assets/colab-badge.svg\" alt=\"Open In Colab\"/></a>"
      ]
    },
    {
      "cell_type": "code",
      "execution_count": 21,
      "metadata": {
        "id": "Ta8XKF-RFnbd"
      },
      "outputs": [],
      "source": [
        "#import library yang diperlukan\n",
        "import numpy as np\n",
        "import pandas as pd\n",
        "from sklearn.preprocessing import LabelEncoder\n",
        "from collections import defaultdict\n",
        "from sklearn.metrics import accuracy_score"
      ]
    },
    {
      "cell_type": "code",
      "source": [
        "df = {\n",
        "    'Umur': ['<=30', '<=30', '30...40', '>40', '>40', '<=30', '31...40', '<=30', '<=30', '>40', '<=30', '31...40', '31...40', '>40'],\n",
        "    'Pendapatan': ['tinggi', 'tinggi', 'tinggi', 'sedang', 'rendah', 'rendah', 'rendah', 'sedang', 'rendah', 'sedang', 'sedang', 'sedang', 'tinggi', 'sedang'],\n",
        "    'Mhs': ['bukan', 'bukan', 'bukan', 'bukan', 'ya', 'ya', 'ya', 'bukan', 'ya', 'ya', 'ya', 'bukan', 'ya', 'bukan'],\n",
        "    'Rating Kredit': ['fair', 'excellent', 'fair', 'fair', 'fair', 'excellent', 'fair', 'fair', 'fair', 'fair', 'excellent', 'excellent', 'fair', 'excellent'],\n",
        "    'Beli Komputer': ['tdk', 'tdk', 'ya', 'ya', 'ya', 'tdk', 'ya', 'tdk', 'ya', 'ya', 'ya', 'ya', 'ya', 'tdk']\n",
        "}\n",
        "df = pd.DataFrame(df)\n",
        "print(df)"
      ],
      "metadata": {
        "colab": {
          "base_uri": "https://localhost:8080/"
        },
        "id": "PdY68_qUGCkn",
        "outputId": "8843b330-b014-4c65-998a-fccb0f826d7a"
      },
      "execution_count": 22,
      "outputs": [
        {
          "output_type": "stream",
          "name": "stdout",
          "text": [
            "       Umur Pendapatan    Mhs Rating Kredit Beli Komputer\n",
            "0      <=30     tinggi  bukan          fair           tdk\n",
            "1      <=30     tinggi  bukan     excellent           tdk\n",
            "2   30...40     tinggi  bukan          fair            ya\n",
            "3       >40     sedang  bukan          fair            ya\n",
            "4       >40     rendah     ya          fair            ya\n",
            "5      <=30     rendah     ya     excellent           tdk\n",
            "6   31...40     rendah     ya          fair            ya\n",
            "7      <=30     sedang  bukan          fair           tdk\n",
            "8      <=30     rendah     ya          fair            ya\n",
            "9       >40     sedang     ya          fair            ya\n",
            "10     <=30     sedang     ya     excellent            ya\n",
            "11  31...40     sedang  bukan     excellent            ya\n",
            "12  31...40     tinggi     ya          fair            ya\n",
            "13      >40     sedang  bukan     excellent           tdk\n"
          ]
        }
      ]
    },
    {
      "cell_type": "code",
      "source": [
        "le = LabelEncoder()\n",
        "encoded_df = df.copy()\n",
        "for col in encoded_df.columns:\n",
        "    encoded_df[col] = le.fit_transform(df[col])\n",
        "print(encoded_df)"
      ],
      "metadata": {
        "colab": {
          "base_uri": "https://localhost:8080/"
        },
        "id": "TDXFi2LvF1lZ",
        "outputId": "ca4aa6a1-217d-449c-f33e-83ad28eb1235"
      },
      "execution_count": 23,
      "outputs": [
        {
          "output_type": "stream",
          "name": "stdout",
          "text": [
            "    Umur  Pendapatan  Mhs  Rating Kredit  Beli Komputer\n",
            "0      2           2    0              1              0\n",
            "1      2           2    0              0              0\n",
            "2      0           2    0              1              1\n",
            "3      3           1    0              1              1\n",
            "4      3           0    1              1              1\n",
            "5      2           0    1              0              0\n",
            "6      1           0    1              1              1\n",
            "7      2           1    0              1              0\n",
            "8      2           0    1              1              1\n",
            "9      3           1    1              1              1\n",
            "10     2           1    1              0              1\n",
            "11     1           1    0              0              1\n",
            "12     1           2    1              1              1\n",
            "13     3           1    0              0              0\n"
          ]
        }
      ]
    },
    {
      "cell_type": "code",
      "source": [
        "label_counts = encoded_df['Beli Komputer'].value_counts()\n",
        "total_samples = len(encoded_df)\n",
        "prior_prob = label_counts / total_samples"
      ],
      "metadata": {
        "id": "svtYuEY4F3IH"
      },
      "execution_count": 24,
      "outputs": []
    },
    {
      "cell_type": "code",
      "source": [
        "feature_probs = defaultdict(lambda: defaultdict(lambda: defaultdict(float)))\n",
        "features = ['Umur', 'Pendapatan', 'Mhs', 'Rating Kredit']\n",
        "\n",
        "target = 'Beli Komputer'\n",
        "\n",
        "for feature in features:\n",
        "    for value in encoded_df[feature].unique():\n",
        "        for class_value in encoded_df[target].unique():\n",
        "            num = len(encoded_df[(encoded_df[feature] == value) & (encoded_df[target] == class_value)])\n",
        "            den = label_counts[class_value]\n",
        "            feature_probs[feature][value][class_value] = num / den if den != 0 else 0\n",
        "\n",
        "print(\"Probabilitas Prior:\")\n",
        "print(prior_prob)\n",
        "print(\"\\nProbabilitas Likelihood:\")\n",
        "for feature in features:\n",
        "  print(f\"\\n{feature}:\")\n",
        "  for value in feature_probs[feature]:\n",
        "    for class_value in feature_probs[feature][value]:\n",
        "      print(f\"({feature}={value}| Kelas={class_value})={feature_probs[feature][value][class_value]:.4f}\")"
      ],
      "metadata": {
        "colab": {
          "base_uri": "https://localhost:8080/"
        },
        "id": "BF5N8MccF4zY",
        "outputId": "d1faa4d1-61f9-409b-affa-15ea7db74830"
      },
      "execution_count": 27,
      "outputs": [
        {
          "output_type": "stream",
          "name": "stdout",
          "text": [
            "Probabilitas Prior:\n",
            "Beli Komputer\n",
            "1    0.642857\n",
            "0    0.357143\n",
            "Name: count, dtype: float64\n",
            "\n",
            "Probabilitas Likelihood:\n",
            "\n",
            "Umur:\n",
            "(Umur=2| Kelas=0)=0.8000\n",
            "(Umur=2| Kelas=1)=0.2222\n",
            "(Umur=0| Kelas=0)=0.0000\n",
            "(Umur=0| Kelas=1)=0.1111\n",
            "(Umur=3| Kelas=0)=0.2000\n",
            "(Umur=3| Kelas=1)=0.3333\n",
            "(Umur=1| Kelas=0)=0.0000\n",
            "(Umur=1| Kelas=1)=0.3333\n",
            "\n",
            "Pendapatan:\n",
            "(Pendapatan=2| Kelas=0)=0.4000\n",
            "(Pendapatan=2| Kelas=1)=0.2222\n",
            "(Pendapatan=1| Kelas=0)=0.4000\n",
            "(Pendapatan=1| Kelas=1)=0.4444\n",
            "(Pendapatan=0| Kelas=0)=0.2000\n",
            "(Pendapatan=0| Kelas=1)=0.3333\n",
            "\n",
            "Mhs:\n",
            "(Mhs=0| Kelas=0)=0.8000\n",
            "(Mhs=0| Kelas=1)=0.3333\n",
            "(Mhs=1| Kelas=0)=0.2000\n",
            "(Mhs=1| Kelas=1)=0.6667\n",
            "\n",
            "Rating Kredit:\n",
            "(Rating Kredit=1| Kelas=0)=0.4000\n",
            "(Rating Kredit=1| Kelas=1)=0.7778\n",
            "(Rating Kredit=0| Kelas=0)=0.6000\n",
            "(Rating Kredit=0| Kelas=1)=0.2222\n"
          ]
        }
      ]
    },
    {
      "cell_type": "code",
      "source": [
        "def predict(row):\n",
        "  posterior_probs = {}\n",
        "  for class_value in encoded_df[target].unique():\n",
        "    posterior = prior_prob[class_value]\n",
        "    for feature in features:\n",
        "      feature_value = row[feature]\n",
        "      posterior *= feature_probs[feature][feature_value][class_value]\n",
        "    posterior_probs[class_value] = posterior\n",
        "  return max(posterior_probs, key=posterior_probs.get)"
      ],
      "metadata": {
        "id": "AhowTaXEF9LK"
      },
      "execution_count": 26,
      "outputs": []
    },
    {
      "cell_type": "code",
      "source": [
        "  encoded_df['Prediksi'] = encoded_df.apply(predict, axis=1)\n",
        "  correct_predictions = (encoded_df['Prediksi'] == encoded_df[target]).sum()\n",
        "  accuracy = correct_predictions / total_samples\n",
        "  print(f\"\\nAkurasi: {accuracy:.2%}\")\n",
        "\n",
        "  print(f\"\\nPrediksi vc Aktual:\")\n",
        "  print(encoded_df[['Beli Komputer', 'Prediksi']])"
      ],
      "metadata": {
        "colab": {
          "base_uri": "https://localhost:8080/"
        },
        "id": "ccpSK8yUGNci",
        "outputId": "897a3be1-275f-44e2-e9c6-fdac6d2d0c16"
      },
      "execution_count": 19,
      "outputs": [
        {
          "output_type": "stream",
          "name": "stdout",
          "text": [
            "\n",
            "Akurasi: 85.71%\n",
            "\n",
            "Prediksi vc Aktual:\n",
            "    Beli Komputer  Prediksi\n",
            "0               0         0\n",
            "1               0         0\n",
            "2               1         1\n",
            "3               1         1\n",
            "4               1         1\n",
            "5               0         1\n",
            "6               1         1\n",
            "7               0         0\n",
            "8               1         1\n",
            "9               1         1\n",
            "10              1         0\n",
            "11              1         1\n",
            "12              1         1\n",
            "13              0         0\n"
          ]
        }
      ]
    }
  ]
}